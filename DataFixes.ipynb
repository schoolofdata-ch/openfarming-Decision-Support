{
 "cells": [
  {
   "cell_type": "markdown",
   "metadata": {},
   "source": [
    "# Data Fixes"
   ]
  },
  {
   "cell_type": "markdown",
   "metadata": {},
   "source": [
    "## Imports"
   ]
  },
  {
   "cell_type": "code",
   "execution_count": 70,
   "metadata": {},
   "outputs": [],
   "source": [
    "import pandas as pd\n",
    "import numpy as np\n",
    "import datetime\n",
    "import numbers\n",
    "import decimal"
   ]
  },
  {
   "cell_type": "markdown",
   "metadata": {},
   "source": [
    "Mögliche Verbesserungen an den Daten:\n",
    "\n",
    "- (Done) Jahreszeit hinzufügen, wann eine Milchleistungsprüfung / Besamung vorgenommen wurde (Juni-Ende August) - (September-Oktober) - (November-Ende Februar) - (März-Ende Mai)\n",
    "\n",
    "- (Was already Done) Information der Art der Milchleistungsprüfmethode hineinnehmen\n",
    "\n",
    "- milking_time_morning und milking_time_evening ignorieren -- in Modulus ausschliessen\n",
    "\n",
    "- (Done) Die Information AR_PESEE_PESCODEALPAGE (ob auf Alp oder nicht) weiter verfeinern, da sehr viele Einträge den Wert 0 haben -> Anstatt 0 mit 350 füllen\n",
    "\n",
    "- Information der Herde (idhrd_anon) “retten”, z.B. indem man berechnet wie die Milchleistung im Vergleich der mittleren Milchleistung der Herde ist -- noch zu klären\n",
    "\n",
    "- (Done) Zeilen entfernen, bei welchen die Spalte label nicht ein “CH” drin hat\n",
    "\n",
    "- milk_yield_msrmt_type (Typ wie der Milk Yield gemessen wurde) möglicherweise ignorieren -- in Modulus ausschliessen\n",
    "\n",
    "- (Done) Werte mit nsaiet_type == Belegung oder == ET entfernen\n",
    "\n",
    "- Berechnung Persistenz (Steigung von 1 bis 3 Messung) (Steigung von 3 bis 6 Messung) -> Werte müssten separat importiert werden daher aufgeschoben"
   ]
  },
  {
   "cell_type": "code",
   "execution_count": 55,
   "metadata": {},
   "outputs": [
    {
     "name": "stdout",
     "output_type": "stream",
     "text": [
      "(998174, 41)\n",
      "Index(['parity', 'nsaiet_date', 'nsaiet_type', 'AI_technician', 'idani_anon',\n",
      "       'idani_anon_aisire', 'parity_labels', 'mlksmpl_date',\n",
      "       'milking_time_morning', 'milking_time_evening', 'lab_date', 'DIM',\n",
      "       'pruefmethode', 'melkmethode', 'milk_yield_24h', 'fat_24h',\n",
      "       'protein_24h', 'lactose_24h', 'scc_24h', 'urea_24h',\n",
      "       'AR_PESEE_PESCODEALPAGE', 'idhrd_anon', 'milk_yield_msrmt_type',\n",
      "       'fat_protein_24h_ratio', 'calving_date', 'calving_ease', 'birth_date',\n",
      "       'brd_abbr_icar', 'base', 'label', 'ekg', 'epr', 'fkg', 'fpr', 'mkg',\n",
      "       'per', 'scs', 'healthevents', 'age', 'days_since_calving',\n",
      "       'days_since_mlksample'],\n",
      "      dtype='object')\n"
     ]
    }
   ],
   "source": [
    "# Path where the data ready for the ML analysis is stored\n",
    "fpath_prepared_data_dir = 'ready_data/ai_basic_all/'\n",
    "\n",
    "df = pd.read_csv(fpath_prepared_data_dir+'data.csv', sep=',')\n",
    "\n",
    "print(df.shape)\n",
    "#print(df.head() )\n",
    "print(df.columns)"
   ]
  },
  {
   "cell_type": "markdown",
   "metadata": {},
   "source": [
    "## Clean up "
   ]
  },
  {
   "cell_type": "code",
   "execution_count": 56,
   "metadata": {},
   "outputs": [
    {
     "name": "stdout",
     "output_type": "stream",
     "text": [
      "   parity nsaiet_date nsaiet_type  AI_technician       idani_anon  \\\n",
      "0       1  2012-01-31    Besamung             10  CHE000002135865   \n",
      "1       2  2013-01-31    Besamung             10  CHE000002135865   \n",
      "2       2  2013-04-10    Besamung             10  CHE000002135865   \n",
      "3       3  2014-04-18    Besamung             10  CHE000002135865   \n",
      "4       5  2016-01-16    Besamung             10  CHE000002135865   \n",
      "\n",
      "  idani_anon_aisire  parity_labels mlksmpl_date  milking_time_morning  \\\n",
      "0   CHE000027115493              1   2012-01-30               50000.0   \n",
      "1   CHE000027115493              0   2013-01-19               50000.0   \n",
      "2   CHE000054877989              1   2013-04-03               50000.0   \n",
      "3   CHE000039636778              1   2014-03-24               50000.0   \n",
      "4   CHE000042853985              0   2016-01-14               50000.0   \n",
      "\n",
      "   milking_time_evening  ...  epr  fkg   fpr    mkg    per    scs  \\\n",
      "0              163000.0  ... -0.1  0.0  0.07 -153.0  108.0  111.0   \n",
      "1              163000.0  ... -0.1  0.0  0.07 -153.0  108.0  111.0   \n",
      "2              163000.0  ... -0.1  0.0  0.07 -153.0  108.0  111.0   \n",
      "3              163000.0  ... -0.1  0.0  0.07 -153.0  108.0  111.0   \n",
      "4              163000.0  ... -0.1  0.0  0.07 -153.0  108.0  111.0   \n",
      "\n",
      "   healthevents   age  days_since_calving  days_since_mlksample  \n",
      "0           0.0   871                 117                     1  \n",
      "1           0.0  1237                  84                    12  \n",
      "2           0.0  1306                 153                     7  \n",
      "3           0.0  1679                  95                    25  \n",
      "4           0.0  2317                  57                     2  \n",
      "\n",
      "[5 rows x 41 columns]\n"
     ]
    }
   ],
   "source": [
    "def remove_columns_to_be_ignored(df, columns_to_ignore):\n",
    "    \"\"\"\n",
    "    Remove all columns to be ignored.\n",
    "    \n",
    "    :param df: Pandas dataframe\n",
    "    :param columns_to_ignore: List of the column names of the columns to ignore\n",
    "    :return: Pandas dataframe\n",
    "    \"\"\"\n",
    "    return df.drop(labels=columns_to_ignore, axis=1)\n",
    "\n",
    "\n",
    "def convert_column_to_datetime(df, column, format='%Y-%m-%d', convert_to_int=False):\n",
    "    \"\"\"\n",
    "    Convert a date-like column to a pandas datetime-column.\n",
    "    \n",
    "    :param df: Pandas dataframe\n",
    "    :param column: Column name of the datetime column\n",
    "    :param format: Format of the date-entry (default: YYYYMMDD)\n",
    "    :param convert_to_int: Bool value whether the column needs to be converted to an\n",
    "                           integer column first (default: False)\n",
    "    :return: Pandas dataframe\n",
    "    \"\"\"\n",
    "    if convert_to_int:\n",
    "        df[column] = df[column].values.astype(np.int64)\n",
    "    df[column] = pd.to_datetime(df[column], format='%Y-%m-%d', errors='coerce').values\n",
    "    return df\n",
    "\n",
    "df = convert_column_to_datetime(df, column='nsaiet_date', convert_to_int=False)\n",
    "df = convert_column_to_datetime(df, column='mlksmpl_date', convert_to_int=False)\n",
    "df = convert_column_to_datetime(df, column='lab_date', convert_to_int=False) \n",
    "df = convert_column_to_datetime(df, column='calving_date', convert_to_int=False) \n",
    "df = convert_column_to_datetime(df, column='birth_date', convert_to_int=False)\n",
    "\n",
    "print(df.head() )"
   ]
  },
  {
   "cell_type": "markdown",
   "metadata": {},
   "source": [
    "## Data Improvements"
   ]
  },
  {
   "cell_type": "code",
   "execution_count": 57,
   "metadata": {},
   "outputs": [],
   "source": [
    "df['sample_season'] = df.apply(lambda row: 0 if row.mlksmpl_date is None else (1 if row.mlksmpl_date.month >= 6 and row.mlksmpl_date.month <=8 else (2 if row.mlksmpl_date.month >=9 and row.mlksmpl_date.month <= 10 else (3 if row.mlksmpl_date.month >=11 or row.mlksmpl_date.month <=2 else (4 if row.mlksmpl_date.month >= 3 and row.mlksmpl_date.month <= 5 else 0)))), axis = 1)\n",
    "df['AR_PESEE_PESCODEALPAGE'] = df.apply(lambda row: 350 if row.AR_PESEE_PESCODEALPAGE is None else (350 if row.AR_PESEE_PESCODEALPAGE < 350 else row.AR_PESEE_PESCODEALPAGE), axis = 1)\n",
    "df = df[df.label.eq('CH')]\n",
    "df = df[df.nsaiet_type != 'ET']"
   ]
  },
  {
   "cell_type": "code",
   "execution_count": 58,
   "metadata": {},
   "outputs": [],
   "source": [
    "df.to_csv(fpath_prepared_data_dir+'data.csv', index=False)"
   ]
  },
  {
   "cell_type": "code",
   "execution_count": 82,
   "metadata": {
    "scrolled": true
   },
   "outputs": [
    {
     "name": "stdout",
     "output_type": "stream",
     "text": [
      "195109\n",
      "0\n",
      "AI_technician: -0.1059161100147355\n",
      "milk_yield_24h: -0.10007911149606408\n",
      "mkg: -0.055811071965679096\n",
      "ekg: -0.0509425397355961\n",
      "fkg: -0.0490067287789213\n",
      "age: -0.04267114262126695\n",
      "parity: -0.04047877481810854\n",
      "fat_protein_24h_ratio: -0.022121635892774973\n",
      "calving_ease: -0.01668457061517801\n",
      "lactose_24h: -0.015465740604135012\n",
      "healthevents: -0.007874451667106153\n",
      "milk_yield_msrmt_type: -0.007762495368695016\n",
      "per: -0.005761727431111544\n",
      "milking_time_evening: -0.0032740487797887972\n",
      "urea_24h: -0.0019487348614256829\n",
      "milking_time_morning: -0.00030718921321647505\n",
      "sample_season: 0.005588093764825396\n",
      "days_since_mlksample: 0.0060189259985440864\n",
      "scc_24h: 0.006316029662490601\n",
      "scs: 0.007274577954998785\n",
      "fpr: 0.00974408441947971\n",
      "AR_PESEE_PESCODEALPAGE: 0.012268519325749494\n",
      "fat_24h: 0.016659447301045113\n",
      "epr: 0.019585598885896078\n",
      "DIM: 0.05617347486686405\n",
      "days_since_calving: 0.0583797114475067\n",
      "protein_24h: 0.06052924291374965\n"
     ]
    }
   ],
   "source": [
    "print(df[df.sample_season == 1].shape[0])\n",
    "#print(df[df.nsaiet_type.isin([\"Belegung\",\"ET\"])].shape[0])\n",
    "print(df[df.nsaiet_type.isin([\"ET\"])].shape[0])\n",
    "df1 = df.drop(['parity_labels'], axis=1)\n",
    "corrMap = {}\n",
    "\n",
    "for columnName in df1.columns:\n",
    "    if isinstance(df1[columnName].iloc[0], numbers.Number):\n",
    "        myCorr = df['parity_labels'].corr(df1[columnName], method='pearson')\n",
    "        corrMap[myCorr] = columnName        \n",
    "        #print(columnName+': '+str(myCorr))\n",
    "     \n",
    "for key in sorted(pearsoncorrs):\n",
    "    print(corrMap[key]+': '+str(key))"
   ]
  }
 ],
 "metadata": {
  "kernelspec": {
   "display_name": "Python 3",
   "language": "python",
   "name": "python3"
  },
  "language_info": {
   "codemirror_mode": {
    "name": "ipython",
    "version": 3
   },
   "file_extension": ".py",
   "mimetype": "text/x-python",
   "name": "python",
   "nbconvert_exporter": "python",
   "pygments_lexer": "ipython3",
   "version": "3.8.3"
  }
 },
 "nbformat": 4,
 "nbformat_minor": 4
}
